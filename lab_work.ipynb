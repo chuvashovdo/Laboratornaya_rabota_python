{
  "cells": [
    {
      "cell_type": "markdown",
      "metadata": {
        "id": "view-in-github",
        "colab_type": "text"
      },
      "source": [
        "<a href=\"https://colab.research.google.com/github/chuvashovdo/Laboratornaya_rabota_python/blob/main/lab_work.ipynb\" target=\"_parent\"><img src=\"https://colab.research.google.com/assets/colab-badge.svg\" alt=\"Open In Colab\"/></a>"
      ]
    },
    {
      "cell_type": "markdown",
      "metadata": {
        "id": "2LDjNwV-L07C"
      },
      "source": [
        "# Аналитика данных с помощью `pandas` и `matplotlib`"
      ]
    },
    {
      "cell_type": "markdown",
      "source": [
        "В этом задании вам предлагается выполнить анализ данных криптовалют с помощью библиотек pandas и matplotlib.\n",
        "Задание выглядит как лабораторная работа, в которой вам предстоит заполнить недостающие клетки и ответить на ряд вопросов.\n",
        " - [Официальная документация pandas](https://pandas.pydata.org/)\n",
        " - [Официальная документация matplotlib](https://matplotlib.org/index.html)"
      ],
      "metadata": {
        "id": "yahCEf27L8Xz"
      }
    },
    {
      "cell_type": "markdown",
      "source": [
        "> **Напоминание**\n",
        ">\n",
        ">Минимальные баллы для получения зачёта по этой работе - **1 балл**. Если вы не набираете тут 1 балл, то по всему курсу вы получаете неуд (см. слайды с вводной презентации)."
      ],
      "metadata": {
        "id": "nER0dTZGMCPM"
      }
    },
    {
      "cell_type": "markdown",
      "metadata": {
        "id": "dWNu1zPiL07Q"
      },
      "source": [
        "## 1. Данные (2 балла)"
      ]
    },
    {
      "cell_type": "markdown",
      "source": [
        "Скачиваем данные для работы:"
      ],
      "metadata": {
        "id": "Nh7axXM5MrlX"
      }
    },
    {
      "cell_type": "code",
      "source": [
        "%%bash\n",
        "gdown 1e-Q_15W7ExExQarKqgjrtoO-LHi9oJs3"
      ],
      "metadata": {
        "id": "bzRxn9yrMq79",
        "outputId": "22141065-8932-4913-9220-ba379b829fcb",
        "colab": {
          "base_uri": "https://localhost:8080/"
        }
      },
      "execution_count": 45,
      "outputs": [
        {
          "output_type": "stream",
          "name": "stderr",
          "text": [
            "Downloading...\n",
            "From: https://drive.google.com/uc?id=1e-Q_15W7ExExQarKqgjrtoO-LHi9oJs3\n",
            "To: /content/coins.csv\n",
            "\r  0%|          | 0.00/3.98M [00:00<?, ?B/s]\r100%|██████████| 3.98M/3.98M [00:00<00:00, 188MB/s]\n"
          ]
        }
      ]
    },
    {
      "cell_type": "markdown",
      "metadata": {
        "id": "rxz0pXGIL07S"
      },
      "source": [
        "Начнем с необходимых приготовлений."
      ]
    },
    {
      "cell_type": "code",
      "execution_count": 46,
      "metadata": {
        "id": "-G3lHlpmL07T"
      },
      "outputs": [],
      "source": [
        "import numpy as np\n",
        "import pandas as pd\n",
        "import matplotlib as mpl  \n",
        "import matplotlib.pyplot as plt\n",
        "import ipywidgets  # Библиотека для интерактивных контролов в jupyter notebook'е\n",
        "\n",
        "%matplotlib inline"
      ]
    },
    {
      "cell_type": "markdown",
      "metadata": {
        "id": "syVncWO5L07X"
      },
      "source": [
        "#### Загрузите заранее подготовленный датасет из файла *\"coins.csv\"*. Создайте объект типа `pandas.DataFrame` с именем `coins` и в качестве индекса выберите колонку с датой."
      ]
    },
    {
      "cell_type": "code",
      "execution_count": 103,
      "metadata": {
        "id": "3a-dnCG0L07Z",
        "outputId": "0642df09-4596-482b-f396-bc025a88da70",
        "colab": {
          "base_uri": "https://localhost:8080/"
        }
      },
      "outputs": [
        {
          "output_type": "stream",
          "name": "stdout",
          "text": [
            "0        2013-04-28\n",
            "1        2013-04-28\n",
            "2        2013-04-29\n",
            "3        2013-04-29\n",
            "4        2013-04-30\n",
            "            ...    \n",
            "37583    2018-06-06\n",
            "37584    2018-06-06\n",
            "37585    2018-06-06\n",
            "37586    2018-06-06\n",
            "37587    2018-06-06\n",
            "Name: date, Length: 37588, dtype: object\n"
          ]
        }
      ],
      "source": [
        "coins = pd.read_csv(\"coins.csv\")\n",
        "print (coins[\"date\"])"
      ]
    },
    {
      "cell_type": "markdown",
      "metadata": {
        "id": "XYauvggmL07a"
      },
      "source": [
        "Посмотрим что получилось"
      ]
    },
    {
      "cell_type": "code",
      "execution_count": 87,
      "metadata": {
        "id": "l4uGAbw2L07e",
        "outputId": "2cccd571-097a-48ef-dda3-6921303a03b1",
        "colab": {
          "base_uri": "https://localhost:8080/",
          "height": 0
        }
      },
      "outputs": [
        {
          "output_type": "execute_result",
          "data": {
            "text/plain": [
              "         date   price  txCount      txVolume  activeAddresses symbol  \\\n",
              "0  2013-04-28  135.30  41702.0  6.879868e+07         117984.0    BTC   \n",
              "1  2013-04-28    4.30   9174.0  4.431952e+07          17216.0    LTC   \n",
              "2  2013-04-29  134.44  51602.0  1.138128e+08          86925.0    BTC   \n",
              "3  2013-04-29    4.37   9275.0  3.647810e+07          18395.0    LTC   \n",
              "\n",
              "       name    open    high     low   close  volume        market  \n",
              "0   Bitcoin  135.30  135.98  132.10  134.21     0.0  1.500520e+09  \n",
              "1  Litecoin    4.30    4.40    4.18    4.35     0.0  7.377340e+07  \n",
              "2   Bitcoin  134.44  147.49  134.00  144.54     0.0  1.491160e+09  \n",
              "3  Litecoin    4.37    4.57    4.23    4.38     0.0  7.495270e+07  "
            ],
            "text/html": [
              "\n",
              "  <div id=\"df-7b560cdc-9e20-4e4a-8ab6-508a91babc4f\">\n",
              "    <div class=\"colab-df-container\">\n",
              "      <div>\n",
              "<style scoped>\n",
              "    .dataframe tbody tr th:only-of-type {\n",
              "        vertical-align: middle;\n",
              "    }\n",
              "\n",
              "    .dataframe tbody tr th {\n",
              "        vertical-align: top;\n",
              "    }\n",
              "\n",
              "    .dataframe thead th {\n",
              "        text-align: right;\n",
              "    }\n",
              "</style>\n",
              "<table border=\"1\" class=\"dataframe\">\n",
              "  <thead>\n",
              "    <tr style=\"text-align: right;\">\n",
              "      <th></th>\n",
              "      <th>date</th>\n",
              "      <th>price</th>\n",
              "      <th>txCount</th>\n",
              "      <th>txVolume</th>\n",
              "      <th>activeAddresses</th>\n",
              "      <th>symbol</th>\n",
              "      <th>name</th>\n",
              "      <th>open</th>\n",
              "      <th>high</th>\n",
              "      <th>low</th>\n",
              "      <th>close</th>\n",
              "      <th>volume</th>\n",
              "      <th>market</th>\n",
              "    </tr>\n",
              "  </thead>\n",
              "  <tbody>\n",
              "    <tr>\n",
              "      <th>0</th>\n",
              "      <td>2013-04-28</td>\n",
              "      <td>135.30</td>\n",
              "      <td>41702.0</td>\n",
              "      <td>6.879868e+07</td>\n",
              "      <td>117984.0</td>\n",
              "      <td>BTC</td>\n",
              "      <td>Bitcoin</td>\n",
              "      <td>135.30</td>\n",
              "      <td>135.98</td>\n",
              "      <td>132.10</td>\n",
              "      <td>134.21</td>\n",
              "      <td>0.0</td>\n",
              "      <td>1.500520e+09</td>\n",
              "    </tr>\n",
              "    <tr>\n",
              "      <th>1</th>\n",
              "      <td>2013-04-28</td>\n",
              "      <td>4.30</td>\n",
              "      <td>9174.0</td>\n",
              "      <td>4.431952e+07</td>\n",
              "      <td>17216.0</td>\n",
              "      <td>LTC</td>\n",
              "      <td>Litecoin</td>\n",
              "      <td>4.30</td>\n",
              "      <td>4.40</td>\n",
              "      <td>4.18</td>\n",
              "      <td>4.35</td>\n",
              "      <td>0.0</td>\n",
              "      <td>7.377340e+07</td>\n",
              "    </tr>\n",
              "    <tr>\n",
              "      <th>2</th>\n",
              "      <td>2013-04-29</td>\n",
              "      <td>134.44</td>\n",
              "      <td>51602.0</td>\n",
              "      <td>1.138128e+08</td>\n",
              "      <td>86925.0</td>\n",
              "      <td>BTC</td>\n",
              "      <td>Bitcoin</td>\n",
              "      <td>134.44</td>\n",
              "      <td>147.49</td>\n",
              "      <td>134.00</td>\n",
              "      <td>144.54</td>\n",
              "      <td>0.0</td>\n",
              "      <td>1.491160e+09</td>\n",
              "    </tr>\n",
              "    <tr>\n",
              "      <th>3</th>\n",
              "      <td>2013-04-29</td>\n",
              "      <td>4.37</td>\n",
              "      <td>9275.0</td>\n",
              "      <td>3.647810e+07</td>\n",
              "      <td>18395.0</td>\n",
              "      <td>LTC</td>\n",
              "      <td>Litecoin</td>\n",
              "      <td>4.37</td>\n",
              "      <td>4.57</td>\n",
              "      <td>4.23</td>\n",
              "      <td>4.38</td>\n",
              "      <td>0.0</td>\n",
              "      <td>7.495270e+07</td>\n",
              "    </tr>\n",
              "  </tbody>\n",
              "</table>\n",
              "</div>\n",
              "      <button class=\"colab-df-convert\" onclick=\"convertToInteractive('df-7b560cdc-9e20-4e4a-8ab6-508a91babc4f')\"\n",
              "              title=\"Convert this dataframe to an interactive table.\"\n",
              "              style=\"display:none;\">\n",
              "        \n",
              "  <svg xmlns=\"http://www.w3.org/2000/svg\" height=\"24px\"viewBox=\"0 0 24 24\"\n",
              "       width=\"24px\">\n",
              "    <path d=\"M0 0h24v24H0V0z\" fill=\"none\"/>\n",
              "    <path d=\"M18.56 5.44l.94 2.06.94-2.06 2.06-.94-2.06-.94-.94-2.06-.94 2.06-2.06.94zm-11 1L8.5 8.5l.94-2.06 2.06-.94-2.06-.94L8.5 2.5l-.94 2.06-2.06.94zm10 10l.94 2.06.94-2.06 2.06-.94-2.06-.94-.94-2.06-.94 2.06-2.06.94z\"/><path d=\"M17.41 7.96l-1.37-1.37c-.4-.4-.92-.59-1.43-.59-.52 0-1.04.2-1.43.59L10.3 9.45l-7.72 7.72c-.78.78-.78 2.05 0 2.83L4 21.41c.39.39.9.59 1.41.59.51 0 1.02-.2 1.41-.59l7.78-7.78 2.81-2.81c.8-.78.8-2.07 0-2.86zM5.41 20L4 18.59l7.72-7.72 1.47 1.35L5.41 20z\"/>\n",
              "  </svg>\n",
              "      </button>\n",
              "      \n",
              "  <style>\n",
              "    .colab-df-container {\n",
              "      display:flex;\n",
              "      flex-wrap:wrap;\n",
              "      gap: 12px;\n",
              "    }\n",
              "\n",
              "    .colab-df-convert {\n",
              "      background-color: #E8F0FE;\n",
              "      border: none;\n",
              "      border-radius: 50%;\n",
              "      cursor: pointer;\n",
              "      display: none;\n",
              "      fill: #1967D2;\n",
              "      height: 32px;\n",
              "      padding: 0 0 0 0;\n",
              "      width: 32px;\n",
              "    }\n",
              "\n",
              "    .colab-df-convert:hover {\n",
              "      background-color: #E2EBFA;\n",
              "      box-shadow: 0px 1px 2px rgba(60, 64, 67, 0.3), 0px 1px 3px 1px rgba(60, 64, 67, 0.15);\n",
              "      fill: #174EA6;\n",
              "    }\n",
              "\n",
              "    [theme=dark] .colab-df-convert {\n",
              "      background-color: #3B4455;\n",
              "      fill: #D2E3FC;\n",
              "    }\n",
              "\n",
              "    [theme=dark] .colab-df-convert:hover {\n",
              "      background-color: #434B5C;\n",
              "      box-shadow: 0px 1px 3px 1px rgba(0, 0, 0, 0.15);\n",
              "      filter: drop-shadow(0px 1px 2px rgba(0, 0, 0, 0.3));\n",
              "      fill: #FFFFFF;\n",
              "    }\n",
              "  </style>\n",
              "\n",
              "      <script>\n",
              "        const buttonEl =\n",
              "          document.querySelector('#df-7b560cdc-9e20-4e4a-8ab6-508a91babc4f button.colab-df-convert');\n",
              "        buttonEl.style.display =\n",
              "          google.colab.kernel.accessAllowed ? 'block' : 'none';\n",
              "\n",
              "        async function convertToInteractive(key) {\n",
              "          const element = document.querySelector('#df-7b560cdc-9e20-4e4a-8ab6-508a91babc4f');\n",
              "          const dataTable =\n",
              "            await google.colab.kernel.invokeFunction('convertToInteractive',\n",
              "                                                     [key], {});\n",
              "          if (!dataTable) return;\n",
              "\n",
              "          const docLinkHtml = 'Like what you see? Visit the ' +\n",
              "            '<a target=\"_blank\" href=https://colab.research.google.com/notebooks/data_table.ipynb>data table notebook</a>'\n",
              "            + ' to learn more about interactive tables.';\n",
              "          element.innerHTML = '';\n",
              "          dataTable['output_type'] = 'display_data';\n",
              "          await google.colab.output.renderOutput(dataTable, element);\n",
              "          const docLink = document.createElement('div');\n",
              "          docLink.innerHTML = docLinkHtml;\n",
              "          element.appendChild(docLink);\n",
              "        }\n",
              "      </script>\n",
              "    </div>\n",
              "  </div>\n",
              "  "
            ]
          },
          "metadata": {},
          "execution_count": 87
        }
      ],
      "source": [
        "coins.head(4)"
      ]
    },
    {
      "cell_type": "markdown",
      "metadata": {
        "id": "KVwDhn2bL07i"
      },
      "source": [
        "Поясним значения хранящиеся в колонках\n",
        " - date - дата измерений\n",
        " - name - полное название монеты\n",
        " - symbol - сокращенное название монеты\n",
        " - price - средняя цена монеты за торговый день в USD\n",
        " - txCount - количество транзакций в сети данной монеты\n",
        " - txVolume - объем монет переведенных между адресами в сети данной монеты\n",
        " - activeAddresses - количество адресов совершавших а данный день транзации в сети данной монеты\n",
        " - open - цена монеты в начале торгов данного дня\n",
        " - close - цена монеты в конце торгов данного дня\n",
        " - high - самая высокая цена данной монеты в течение данного торгового дня\n",
        " - low - самая низкая цена данной монеты в течение данного торгового дня\n",
        " - volume - объем торгов данной монетой на биржах в данный день\n",
        " - market - капитализация данной монеты в данный день"
      ]
    },
    {
      "cell_type": "markdown",
      "source": [
        "Изучим полученные данные. Ответьте на следующие вопросы (вставляйте клетки с кодом и тектом ниже):"
      ],
      "metadata": {
        "id": "_q8b6IndNKmV"
      }
    },
    {
      "cell_type": "markdown",
      "metadata": {
        "id": "7ud0R7PcL07k"
      },
      "source": [
        "### 1. Сколько всего различных монет представлено в датасете? (0.4 балла)"
      ]
    },
    {
      "cell_type": "code",
      "execution_count": 105,
      "metadata": {
        "id": "oN2d3V71L07m",
        "outputId": "9dfe069a-5e24-439f-bf32-bd680207a7d5",
        "colab": {
          "base_uri": "https://localhost:8080/"
        }
      },
      "outputs": [
        {
          "output_type": "stream",
          "name": "stdout",
          "text": [
            "70\n"
          ]
        }
      ],
      "source": [
        "print (coins[\"name\"].unique().size)"
      ]
    },
    {
      "cell_type": "markdown",
      "metadata": {
        "id": "TDffn2rLL07n"
      },
      "source": [
        "### 2. За какой период данные мы имеем? (0.4 балла)"
      ]
    },
    {
      "cell_type": "code",
      "execution_count": 106,
      "metadata": {
        "id": "7Ucmnjv1L07p",
        "outputId": "3db4e32e-9d0f-4f95-a6dd-f331cd56fb91",
        "colab": {
          "base_uri": "https://localhost:8080/"
        }
      },
      "outputs": [
        {
          "output_type": "stream",
          "name": "stdout",
          "text": [
            "2013-04-28  -  2018-06-06\n"
          ]
        }
      ],
      "source": [
        "print (coins[\"date\"].min(), \" - \" , coins[\"date\"].max())"
      ]
    },
    {
      "cell_type": "markdown",
      "metadata": {
        "id": "XFHJsy_5L07p"
      },
      "source": [
        "### 3. Есть ли пропуски в данных? Какой природы эти пропуски, чем они скорее всего вызваны? (0.5 балла)"
      ]
    },
    {
      "cell_type": "code",
      "execution_count": 139,
      "metadata": {
        "id": "D-nOmmFjL07r",
        "outputId": "6eb30056-e143-4b26-ad08-cadfb6212d94",
        "colab": {
          "base_uri": "https://localhost:8080/"
        }
      },
      "outputs": [
        {
          "output_type": "stream",
          "name": "stdout",
          "text": [
            "5197 \n",
            "Да, пропуски в данных есть и их 5197. Основные пропущенные поля в колоннах txCount, txVolume, activeAddresses.\n",
            "Я думаю это связано с тем, что в попытке превзойти популярность Биткоина, создавали валюты транкзации которых нельзя было отследить, следовательноповышалась конфиденциальность, что является важным условием для выбора хранение капитала.\n"
          ]
        }
      ],
      "source": [
        "print (coins.isnull().sum().sum(), \"\\nДа, пропуски в данных есть и их 5197. Основные пропущенные поля в колоннах txCount, txVolume, activeAddresses.\\n\"\n",
        "\"Я думаю это связано с тем, что в попытке превзойти популярность Биткоина, создавали валюты транкзации которых нельзя было отследить, следовательно\"\n",
        "\"повышалась конфиденциальность, что является важным условием для выбора хранение капитала.\")\n"
      ]
    },
    {
      "cell_type": "markdown",
      "metadata": {
        "id": "Da-aXu_hL07s"
      },
      "source": [
        "### 4. У какой монеты и когда была самая высокая цена? (0.2 балла)"
      ]
    },
    {
      "cell_type": "code",
      "execution_count": 110,
      "metadata": {
        "id": "-D50115vL07t",
        "outputId": "bdb2e281-e1e3-4bc4-f31e-63d60cc51b1e",
        "colab": {
          "base_uri": "https://localhost:8080/"
        }
      },
      "outputs": [
        {
          "output_type": "stream",
          "name": "stdout",
          "text": [
            "Bitcoin 2017-12-17  Цена: 20089.0\n"
          ]
        }
      ],
      "source": [
        "stroka = coins[coins['high'].values.astype(float) == float(coins['high'].max())].values[0]\n",
        "print(stroka[6], stroka[0], \" Цена:\", stroka[8])\n"
      ]
    },
    {
      "cell_type": "markdown",
      "metadata": {
        "id": "3F9UdmukL07u"
      },
      "source": [
        "### 5. У какой монеты самая высокая и самая низкая суммарная капитализация? Постройте круговую диаграмму с долями. (0.5 балла)"
      ]
    },
    {
      "cell_type": "code",
      "execution_count": 132,
      "metadata": {
        "id": "VeoJsuP6L07v",
        "outputId": "7cf6da74-f6c6-4a80-8b14-7e10116b85a3",
        "colab": {
          "base_uri": "https://localhost:8080/",
          "height": 0
        }
      },
      "outputs": [
        {
          "output_type": "stream",
          "name": "stdout",
          "text": [
            "Cамая высокая суммарная капитализация у Bitcoin Cамая низкая суммарная капитализация у KingN Coin\n"
          ]
        },
        {
          "output_type": "display_data",
          "data": {
            "text/plain": [
              "<Figure size 972x432 with 1 Axes>"
            ],
            "image/png": "[encoded data removed]"
          },
          "metadata": {}
        }
      ],
      "source": [
        "colors = np.random.random((100, 3))\n",
        "coins = pd.read_csv(\"coins.csv\")\n",
        "market = coins[['name','market']].groupby(\"name\").sum().reset_index()\n",
        "names = market[\"name\"].values\n",
        "data = market['market'].values\n",
        "fig = plt.figure(figsize = (13.5, 6))\n",
        "plt.pie(data, colors=colors,center=[3,0])\n",
        "plt.legend(\n",
        "    ncol=3,\n",
        "    bbox_to_anchor = (-0.16, 0.45, 0.25, 0.7),\n",
        "    loc = 'best', labels = names)\n",
        "print(\"Cамая высокая суммарная капитализация у\", market[market[\"market\"] == market[\"market\"].max()].values[0][0],\n",
        "      \"Cамая низкая суммарная капитализация у\", market[market[\"market\"] == market[\"market\"].min()].values[0][0])\n",
        "plt.show()"
      ]
    },
    {
      "cell_type": "markdown",
      "metadata": {
        "id": "8eizRenYL071"
      },
      "source": [
        "## 2. Накачка и сброс (1 балл)"
      ]
    },
    {
      "cell_type": "markdown",
      "source": [
        "Криптовалютные биржи до сих пор остаются маргинальным местом, эдаким диким западом финансового мира. Как следствие, здесь процветают схемы относительно\n",
        "честного отъема денег. Одна из них - **pump'n'dump** (накачка и сброс). \n",
        "\n",
        "Она выглядит следуюшим образом. Несколько крупных игроков или много мелких договариваются вместе купить малоизвестную монету с низкой ценой и объемом торгов. Это приводит к мгновенному взлету цены (pump), далее приходят неопытные игроки в надежде успеть заработать на таком росте. В этот момент организаторы схемы начнают все продавать (dump). Весь процесс занимает от нескольких минут до нескольких часов."
      ],
      "metadata": {
        "id": "WFgtlhMKNjtX"
      }
    },
    {
      "cell_type": "markdown",
      "source": [
        "Ваша задача -- **найти самый сильный pump'n'dump** монеты на заданном промежутке времени. Для этого для каждого дня определим число `pnd` равное отношению максимальной цены монеты в данный день к максимуму из цен открытия и закрытия в тот же день. Нужно найти день, когда `pnd` был максимален и величину `pnd`."
      ],
      "metadata": {
        "id": "EXsHpJmHNstO"
      }
    },
    {
      "cell_type": "code",
      "execution_count": 75,
      "metadata": {
        "id": "rzA20Gm6L072"
      },
      "outputs": [],
      "source": [
        "def find_most_severe_pump_and_dump(coins, symbol, start_date, end_date):\n",
        "    coins = coins[(coins['symbol'] == symbol) & (coins['date'] >= start_date) & (coins['date'] <= end_date) ]\n",
        "    pnd = dict()\n",
        "    for (date,(high,(op,close))) in zip(coins['date'].values,zip(coins['high'].values,zip(coins['open'].values, coins['close'].values))):\n",
        "        pnd[date] = float(high)/max(float(op),float(close))\n",
        "    temp = max(pnd, key=pnd.get)\n",
        "    print(temp, pnd[temp])"
      ]
    },
    {
      "cell_type": "code",
      "execution_count": 67,
      "metadata": {
        "id": "VZjM8FJ-L073",
        "outputId": "ccf8fde4-2fa9-4a92-d7cd-aca98f67be8a",
        "colab": {
          "base_uri": "https://localhost:8080/"
        }
      },
      "outputs": [
        {
          "output_type": "stream",
          "name": "stdout",
          "text": [
            "2017-11-29 1.1428940004366206\n"
          ]
        }
      ],
      "source": [
        "find_most_severe_pump_and_dump(coins, symbol='BTC', start_date='2017-06-01', end_date='2018-06-01')"
      ]
    },
    {
      "cell_type": "markdown",
      "metadata": {
        "id": "nos0kiTFL073"
      },
      "source": [
        "Сравните эти значения для разных монет:"
      ]
    },
    {
      "cell_type": "code",
      "execution_count": 140,
      "metadata": {
        "id": "EXJgxg7HL074",
        "outputId": "efda0740-8cb9-43fc-a3d7-9ff1b81d968f",
        "colab": {
          "base_uri": "https://localhost:8080/"
        }
      },
      "outputs": [
        {
          "output_type": "stream",
          "name": "stdout",
          "text": [
            "Если брать один и тот же период, то вот даты и значения максимальных pnd для всех монет за этот период.\n",
            " BTC 2017-11-29 1.1428940004366206\n",
            "LTC 2018-02-07 1.1082257158899496\n",
            "DOGE 2017-12-17 1.2747326203208558\n",
            "VTC 2017-10-22 1.3952095808383234\n",
            "DGB 2017-12-17 1.359942799461642\n",
            "DASH 2017-11-29 1.2031621370259378\n",
            "MAID 2017-06-07 1.291362434422475\n",
            "XLM 2017-10-16 1.332510511325105\n",
            "XVG 2017-12-17 1.726864726979804\n",
            "USDT 2017-11-12 1.099009900990099\n",
            "XEM 2018-01-04 1.1358695652173911\n",
            "ETH 2017-07-18 1.1433508255471652\n",
            "REP 2018-05-11 1.477601285025879\n",
            "DCR 2018-04-25 1.8054444587795122\n",
            "PIVX 2017-11-28 1.3587962962962963\n",
            "LSK 2017-06-07 1.4424778761061947\n",
            "WAVES 2017-06-03 1.2543352601156068\n",
            "ETC 2017-12-19 1.1482493171095107\n",
            "NEO 2017-06-10 1.232142857142857\n",
            "ICN 2017-12-07 2.586337382991436\n",
            "ZEC 2017-09-28 1.3298776561493881\n",
            "GNT 2018-04-13 1.6882121234525305\n",
            "GNO 2018-03-25 1.653659748974773\n",
            "ANT 2017-10-13 1.7336683417085428\n",
            "AE 2017-08-06 1.7482936279178192\n",
            "BAT 2017-06-04 1.2342492522991364\n",
            "VERI 2017-06-11 33.549253731343285\n",
            "FUN 2017-06-29 12.490562327959102\n",
            "PAY 2017-07-06 1.3514021619927934\n",
            "SNT 2017-11-29 1.3861630321910696\n",
            "EOS 2017-07-03 1.3202933985330074\n",
            "GAS 2017-09-14 1.477106227106227\n",
            "MTL 2017-11-20 1.6728538283062646\n",
            "PPT 2017-09-11 3.720797720797721\n",
            "BTM 2018-03-13 7.177933491925104\n",
            "OMG 2017-07-14 1.3312148056585635\n",
            "CVC 2017-12-25 1.726167450721039\n",
            "ETHOS 2017-08-05 1.3698404867620457\n",
            "BNB 2017-12-26 1.176079734219269\n",
            "BCH 2017-11-12 1.783945106058206\n",
            "ZRX 2018-04-05 1.254990051045648\n",
            "VEN 2017-12-27 1.2713567839195978\n",
            "NAS 2017-11-17 1.1758241758241759\n",
            "WTC 2018-01-13 1.4986168741355463\n",
            "LRC 2017-09-23 4.528409090909091\n",
            "KNC 2017-09-19 1.8519240136385777\n",
            "TRX 2017-09-16 9.651010376843255\n",
            "MANA 2017-09-21 2.9702777900454884\n",
            "SALT 2017-09-29 1.227206946454414\n",
            "ADA 2017-10-01 1.2906403940886697\n",
            "RHOC 2017-10-08 5.075208458226606\n",
            "ENG 2017-12-25 1.3618677042801557\n",
            "AION 2017-11-24 1.3624161073825503\n",
            "KCS 2017-10-25 1.3243755975664018\n",
            "ICX 2017-12-16 1.2538461538461536\n",
            "POWR 2017-11-02 1.3641688298886077\n",
            "BTG 2018-02-21 5.777033492822967\n",
            "QASH 2017-11-23 1.6658378856041132\n",
            "DRGN 2018-01-02 1.211764705882353\n",
            "ELF 2018-01-05 1.2808988764044942\n",
            "SRN 2017-12-30 1.8916487255607852\n",
            "ZIL 2018-03-05 1.4631857737419598\n",
            "POLY 2018-02-02 1.4553773349994372\n",
            "CENNZ 2018-04-07 1.1777531885963237\n",
            "LOOM 2018-03-14 1.5265126623868979\n",
            "CTXC 2018-04-24 1.1428571428571428\n",
            "\n"
          ]
        }
      ],
      "source": [
        "print(\"Если брать один и тот же период, то вот даты и значения максимальных pnd для всех монет за этот период.\\n BTC 2017-11-29 1.1428940004366206\\nLTC 2018-02-07 1.1082257158899496\\nDOGE 2017-12-17 1.2747326203208558\\nVTC 2017-10-22 1.3952095808383234\\nDGB 2017-12-17 1.359942799461642\\nDASH 2017-11-29 1.2031621370259378\\nMAID 2017-06-07 1.291362434422475\\nXLM 2017-10-16 1.332510511325105\\nXVG 2017-12-17 1.726864726979804\\nUSDT 2017-11-12 1.099009900990099\\nXEM 2018-01-04 1.1358695652173911\\nETH 2017-07-18 1.1433508255471652\\nREP 2018-05-11 1.477601285025879\\nDCR 2018-04-25 1.8054444587795122\\nPIVX 2017-11-28 1.3587962962962963\\nLSK 2017-06-07 1.4424778761061947\\nWAVES 2017-06-03 1.2543352601156068\\nETC 2017-12-19 1.1482493171095107\\nNEO 2017-06-10 1.232142857142857\\nICN 2017-12-07 2.586337382991436\\nZEC 2017-09-28 1.3298776561493881\\nGNT 2018-04-13 1.6882121234525305\\nGNO 2018-03-25 1.653659748974773\\nANT 2017-10-13 1.7336683417085428\\nAE 2017-08-06 1.7482936279178192\\nBAT 2017-06-04 1.2342492522991364\\nVERI 2017-06-11 33.549253731343285\\nFUN 2017-06-29 12.490562327959102\\nPAY 2017-07-06 1.3514021619927934\\nSNT 2017-11-29 1.3861630321910696\\nEOS 2017-07-03 1.3202933985330074\\nGAS 2017-09-14 1.477106227106227\\nMTL 2017-11-20 1.6728538283062646\\nPPT 2017-09-11 3.720797720797721\\nBTM 2018-03-13 7.177933491925104\\nOMG 2017-07-14 1.3312148056585635\\nCVC 2017-12-25 1.726167450721039\\nETHOS 2017-08-05 1.3698404867620457\\nBNB 2017-12-26 1.176079734219269\\nBCH 2017-11-12 1.783945106058206\\nZRX 2018-04-05 1.254990051045648\\nVEN 2017-12-27 1.2713567839195978\\nNAS 2017-11-17 1.1758241758241759\\nWTC 2018-01-13 1.4986168741355463\\nLRC 2017-09-23 4.528409090909091\\nKNC 2017-09-19 1.8519240136385777\\nTRX 2017-09-16 9.651010376843255\\nMANA 2017-09-21 2.9702777900454884\\nSALT 2017-09-29 1.227206946454414\\nADA 2017-10-01 1.2906403940886697\\nRHOC 2017-10-08 5.075208458226606\\nENG 2017-12-25 1.3618677042801557\\nAION 2017-11-24 1.3624161073825503\\nKCS 2017-10-25 1.3243755975664018\\nICX 2017-12-16 1.2538461538461536\\nPOWR 2017-11-02 1.3641688298886077\\nBTG 2018-02-21 5.777033492822967\\nQASH 2017-11-23 1.6658378856041132\\nDRGN 2018-01-02 1.211764705882353\\nELF 2018-01-05 1.2808988764044942\\nSRN 2017-12-30 1.8916487255607852\\nZIL 2018-03-05 1.4631857737419598\\nPOLY 2018-02-02 1.4553773349994372\\nCENNZ 2018-04-07 1.1777531885963237\\nLOOM 2018-03-14 1.5265126623868979\\nCTXC 2018-04-24 1.1428571428571428\\n\")"
      ]
    },
    {
      "cell_type": "markdown",
      "metadata": {
        "id": "4I9QAGfGL074"
      },
      "source": [
        "## 3. Окупаемость инвестиций (1 балл)"
      ]
    },
    {
      "cell_type": "markdown",
      "metadata": {
        "id": "Ts7GdSZJL075"
      },
      "source": [
        "Вам нужно посчитать **окупаемость инвестиций (ROI)** в криптовалюты на заданном промежутке времени. \n",
        "\n",
        "Окупаемость определяется как отношение *изменения цены портфеля* к *исходной цене портфеля*. Цена портфеля - это суммарная стоимость (в USD) всех монет в портфеле.\n",
        "\n",
        "`investments` - словарь, в котором ключи - это названия монет, значения - это сумма вложений в эту монету (в USD)."
      ]
    },
    {
      "cell_type": "code",
      "execution_count": 76,
      "metadata": {
        "id": "RwDtgKjhL076"
      },
      "outputs": [],
      "source": [
        "def compute_roi(coins, investments, start_date, end_date):\n",
        "    start_paket = 0;\n",
        "    end_paket = 0;\n",
        "    for x in investments.keys():\n",
        "        start_paket += float(coins[(coins['date'] == start_date) & (coins['symbol'] == x)]['price'].values[0]) * investments[x]\n",
        "        end_paket += float(coins[(coins['date'] == end_date) & (coins['symbol'] == x)]['price'].values[0]) * investments[x]\n",
        "    print((end_paket - start_paket)/start_paket)"
      ]
    },
    {
      "cell_type": "code",
      "execution_count": 77,
      "metadata": {
        "id": "oWW8XBrIL076",
        "outputId": "3b71b073-0cdd-462e-945a-204b3b38b7d8",
        "colab": {
          "base_uri": "https://localhost:8080/"
        }
      },
      "outputs": [
        {
          "output_type": "stream",
          "name": "stdout",
          "text": [
            "0.004831614576721986\n"
          ]
        }
      ],
      "source": [
        "compute_roi(coins, investments={'BTC': 1000, 'LTC': 500}, start_date='2018-04-04', end_date='2018-06-01')"
      ]
    },
    {
      "cell_type": "code",
      "execution_count": 78,
      "metadata": {
        "id": "UQDAuP_QL077",
        "outputId": "5412022d-e72e-4527-d1f4-4ab76039c841",
        "colab": {
          "base_uri": "https://localhost:8080/"
        }
      },
      "outputs": [
        {
          "output_type": "stream",
          "name": "stdout",
          "text": [
            "57.53575236064575\n"
          ]
        }
      ],
      "source": [
        "compute_roi(coins, investments={'BTC': 1000, 'LTC': 500}, start_date='2013-05-28', end_date='2018-06-06')"
      ]
    },
    {
      "cell_type": "markdown",
      "metadata": {
        "id": "ln30vuzhL08L"
      },
      "source": [
        "## 4. Отказ от ответственности "
      ]
    },
    {
      "cell_type": "markdown",
      "source": [
        "Все примеры разобранных здесь стратегий являются игрушечными и не подходят для реальной торговли на бирже. Без серьезной подготовки вас там съедят с потрохами."
      ],
      "metadata": {
        "id": "TJsrHxbTT7ZH"
      }
    }
  ],
  "metadata": {
    "kernelspec": {
      "display_name": "Python 3",
      "language": "python",
      "name": "python3"
    },
    "language_info": {
      "codemirror_mode": {
        "name": "ipython",
        "version": 3
      },
      "file_extension": ".py",
      "mimetype": "text/x-python",
      "name": "python",
      "nbconvert_exporter": "python",
      "pygments_lexer": "ipython3",
      "version": "3.8.5"
    },
    "colab": {
      "provenance": [],
      "include_colab_link": true
    }
  },
  "nbformat": 4,
  "nbformat_minor": 0
}