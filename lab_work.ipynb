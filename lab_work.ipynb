{
  "cells": [
    {
      "cell_type": "markdown",
      "metadata": {
        "id": "view-in-github",
        "colab_type": "text"
      },
      "source": [
        "<a href=\"https://colab.research.google.com/github/chuvashovdo/Laboratornaya_rabota_python/blob/main/lab_work.ipynb\" target=\"_parent\"><img src=\"https://colab.research.google.com/assets/colab-badge.svg\" alt=\"Open In Colab\"/></a>"
      ]
    },
    {
      "cell_type": "markdown",
      "metadata": {
        "id": "2LDjNwV-L07C"
      },
      "source": [
        "# Аналитика данных с помощью `pandas` и `matplotlib`"
      ]
    },
    {
      "cell_type": "markdown",
      "source": [
        "В этом задании вам предлагается выполнить анализ данных криптовалют с помощью библиотек pandas и matplotlib.\n",
        "Задание выглядит как лабораторная работа, в которой вам предстоит заполнить недостающие клетки и ответить на ряд вопросов.\n",
        " - [Официальная документация pandas](https://pandas.pydata.org/)\n",
        " - [Официальная документация matplotlib](https://matplotlib.org/index.html)"
      ],
      "metadata": {
        "id": "yahCEf27L8Xz"
      
    },
    {
      "cell_type": "markdown",
      "source": [
        "> **Напоминание**\n",
        ">\n",
        ">Минимальные баллы для получения зачёта по этой работе - **1 балл**. Если вы не набираете тут 1 балл, то по всему курсу вы получаете неуд (см. слайды с вводной презентации)."
      ],
      "metadata": {
        "id": "nER0dTZGMCPM"
      }
    },
    {
      "cell_type": "markdown",
      "metadata": {
        "id": "dWNu1zPiL07Q"
      },
      "source": [
        "## 1. Данные (2 балла)"
      ]
    },
    {
      "cell_type": "markdown",
      "source": [
        "Скачиваем данные для работы:"
      ],
      "metadata": {
        "id": "Nh7axXM5MrlX"
      }
    },
    {
      "cell_type": "code",
      "source": [
        "%%bash\n",
        "gdown 1e-Q_15W7ExExQarKqgjrtoO-LHi9oJs3"
      ],
      "metadata": {
        "id": "bzRxn9yrMq79",
        "colab": {
          "base_uri": "https://localhost:8080/"
        },
        "outputId": "8cc6aa91-e57f-4d17-c113-852264b90fad"
      },
      "execution_count": 9,
      "outputs": [
        {
          "output_type": "stream",
          "name": "stderr",
          "text": [
            "Downloading...\n",
            "From: https://drive.google.com/uc?id=1e-Q_15W7ExExQarKqgjrtoO-LHi9oJs3\n",
            "To: /content/coins.csv\n",
            "\r  0%|          | 0.00/3.98M [00:00<?, ?B/s]\r100%|██████████| 3.98M/3.98M [00:00<00:00, 140MB/s]\n"
          ]
        }
      ]
    },
    {
      "cell_type": "markdown",
      "metadata": {
        "id": "rxz0pXGIL07S"
      },
      "source": [
        "Начнем с необходимых приготовлений."
      ]
    },
    {
      "cell_type": "code",
      "execution_count": 6,
      "metadata": {
        "id": "-G3lHlpmL07T"
      },
      "outputs": [],
      "source": [
        "import numpy as np\n",
        "import pandas as pd\n",
        "import matplotlib as mpl  \n",
        "import matplotlib.pyplot as plt\n",
        "import ipywidgets  # Библиотека для интерактивных контролов в jupyter notebook'е\n",
        "\n",
        "%matplotlib inline"
      ]
    },
    {
      "cell_type": "markdown",
      "metadata": {
        "id": "syVncWO5L07X"
      },
      "source": [
        "#### Загрузите заранее подготовленный датасет из файла *\"coins.csv\"*. Создайте объект типа `pandas.DataFrame` с именем `coins` и в качестве индекса выберите колонку с датой."
      ]
    },
    {
      "cell_type": "code",
      "execution_count": 10,
      "metadata": {
        "id": "3a-dnCG0L07Z",
        "colab": {
          "base_uri": "https://localhost:8080/"
        },
        "outputId": "8df9104d-169e-4cc6-e7bb-f0f6a11ef135"
      },
      "outputs": [
        {
          "output_type": "stream",
          "name": "stdout",
          "text": [
            "0        2013-04-28\n",
            "1        2013-04-28\n",
            "2        2013-04-29\n",
            "3        2013-04-29\n",
            "4        2013-04-30\n",
            "            ...    \n",
            "37583    2018-06-06\n",
            "37584    2018-06-06\n",
            "37585    2018-06-06\n",
            "37586    2018-06-06\n",
            "37587    2018-06-06\n",
            "Name: date, Length: 37588, dtype: object\n"
          ]
        }
      ],
      "source": [
        "coins = pd.read_csv(\"coins.csv\")\n",
        "print (coins[\"date\"])"
      ]
    },
    {
      "cell_type": "markdown",
      "metadata": {
        "id": "XYauvggmL07a"
      },
      "source": [
        "Посмотрим что получилось"
      ]
    },
    {
      "cell_type": "code",
      "execution_count": 11,
      "metadata": {
        "id": "l4uGAbw2L07e",
        "outputId": "6694fdb4-a480-4dfc-ab5c-6ffdbb325e6c",
        "colab": {
          "base_uri": "https://localhost:8080/",
          "height": 175
        }
      },
      "outputs": [
        {
          "output_type": "execute_result",
          "data": {
            "text/plain": [
              "         date   price  txCount      txVolume  activeAddresses symbol  \\\n",
              "0  2013-04-28  135.30  41702.0  6.879868e+07         117984.0    BTC   \n",
              "1  2013-04-28    4.30   9174.0  4.431952e+07          17216.0    LTC   \n",
              "2  2013-04-29  134.44  51602.0  1.138128e+08          86925.0    BTC   \n",
              "3  2013-04-29    4.37   9275.0  3.647810e+07          18395.0    LTC   \n",
              "\n",
              "       name    open    high     low   close  volume        market  \n",
              "0   Bitcoin  135.30  135.98  132.10  134.21     0.0  1.500520e+09  \n",
              "1  Litecoin    4.30    4.40    4.18    4.35     0.0  7.377340e+07  \n",
              "2   Bitcoin  134.44  147.49  134.00  144.54     0.0  1.491160e+09  \n",
              "3  Litecoin    4.37    4.57    4.23    4.38     0.0  7.495270e+07  "
            ],
            "text/html": [
              "\n",
              "  <div id=\"df-0a712593-673f-4119-8de6-5de3468e414b\">\n",
              "    <div class=\"colab-df-container\">\n",
              "      <div>\n",
              "<style scoped>\n",
              "    .dataframe tbody tr th:only-of-type {\n",
              "        vertical-align: middle;\n",
              "    }\n",
              "\n",
              "    .dataframe tbody tr th {\n",
              "        vertical-align: top;\n",
              "    }\n",
              "\n",
              "    .dataframe thead th {\n",
              "        text-align: right;\n",
              "    }\n",
              "</style>\n",
              "<table border=\"1\" class=\"dataframe\">\n",
              "  <thead>\n",
              "    <tr style=\"text-align: right;\">\n",
              "      <th></th>\n",
              "      <th>date</th>\n",
              "      <th>price</th>\n",
              "      <th>txCount</th>\n",
              "      <th>txVolume</th>\n",
              "      <th>activeAddresses</th>\n",
              "      <th>symbol</th>\n",
              "      <th>name</th>\n",
              "      <th>open</th>\n",
              "      <th>high</th>\n",
              "      <th>low</th>\n",
              "      <th>close</th>\n",
              "      <th>volume</th>\n",
              "      <th>market</th>\n",
              "    </tr>\n",
              "  </thead>\n",
              "  <tbody>\n",
              "    <tr>\n",
              "      <th>0</th>\n",
              "      <td>2013-04-28</td>\n",
              "      <td>135.30</td>\n",
              "      <td>41702.0</td>\n",
              "      <td>6.879868e+07</td>\n",
              "      <td>117984.0</td>\n",
              "      <td>BTC</td>\n",
              "      <td>Bitcoin</td>\n",
              "      <td>135.30</td>\n",
              "      <td>135.98</td>\n",
              "      <td>132.10</td>\n",
              "      <td>134.21</td>\n",
              "      <td>0.0</td>\n",
              "      <td>1.500520e+09</td>\n",
              "    </tr>\n",
              "    <tr>\n",
              "      <th>1</th>\n",
              "      <td>2013-04-28</td>\n",
              "      <td>4.30</td>\n",
              "      <td>9174.0</td>\n",
              "      <td>4.431952e+07</td>\n",
              "      <td>17216.0</td>\n",
              "      <td>LTC</td>\n",
              "      <td>Litecoin</td>\n",
              "      <td>4.30</td>\n",
              "      <td>4.40</td>\n",
              "      <td>4.18</td>\n",
              "      <td>4.35</td>\n",
              "      <td>0.0</td>\n",
              "      <td>7.377340e+07</td>\n",
              "    </tr>\n",
              "    <tr>\n",
              "      <th>2</th>\n",
              "      <td>2013-04-29</td>\n",
              "      <td>134.44</td>\n",
              "      <td>51602.0</td>\n",
              "      <td>1.138128e+08</td>\n",
              "      <td>86925.0</td>\n",
              "      <td>BTC</td>\n",
              "      <td>Bitcoin</td>\n",
              "      <td>134.44</td>\n",
              "      <td>147.49</td>\n",
              "      <td>134.00</td>\n",
              "      <td>144.54</td>\n",
              "      <td>0.0</td>\n",
              "      <td>1.491160e+09</td>\n",
              "    </tr>\n",
              "    <tr>\n",
              "      <th>3</th>\n",
              "      <td>2013-04-29</td>\n",
              "      <td>4.37</td>\n",
              "      <td>9275.0</td>\n",
              "      <td>3.647810e+07</td>\n",
              "      <td>18395.0</td>\n",
              "      <td>LTC</td>\n",
              "      <td>Litecoin</td>\n",
              "      <td>4.37</td>\n",
              "      <td>4.57</td>\n",
              "      <td>4.23</td>\n",
              "      <td>4.38</td>\n",
              "      <td>0.0</td>\n",
              "      <td>7.495270e+07</td>\n",
              "    </tr>\n",
              "  </tbody>\n",
              "</table>\n",
              "</div>\n",
              "      <button class=\"colab-df-convert\" onclick=\"convertToInteractive('df-0a712593-673f-4119-8de6-5de3468e414b')\"\n",
              "              title=\"Convert this dataframe to an interactive table.\"\n",
              "              style=\"display:none;\">\n",
              "        \n",
              "  <svg xmlns=\"http://www.w3.org/2000/svg\" height=\"24px\"viewBox=\"0 0 24 24\"\n",
              "       width=\"24px\">\n",
              "    <path d=\"M0 0h24v24H0V0z\" fill=\"none\"/>\n",
              "    <path d=\"M18.56 5.44l.94 2.06.94-2.06 2.06-.94-2.06-.94-.94-2.06-.94 2.06-2.06.94zm-11 1L8.5 8.5l.94-2.06 2.06-.94-2.06-.94L8.5 2.5l-.94 2.06-2.06.94zm10 10l.94 2.06.94-2.06 2.06-.94-2.06-.94-.94-2.06-.94 2.06-2.06.94z\"/><path d=\"M17.41 7.96l-1.37-1.37c-.4-.4-.92-.59-1.43-.59-.52 0-1.04.2-1.43.59L10.3 9.45l-7.72 7.72c-.78.78-.78 2.05 0 2.83L4 21.41c.39.39.9.59 1.41.59.51 0 1.02-.2 1.41-.59l7.78-7.78 2.81-2.81c.8-.78.8-2.07 0-2.86zM5.41 20L4 18.59l7.72-7.72 1.47 1.35L5.41 20z\"/>\n",
              "  </svg>\n",
              "      </button>\n",
              "      \n",
              "  <style>\n",
              "    .colab-df-container {\n",
              "      display:flex;\n",
              "      flex-wrap:wrap;\n",
              "      gap: 12px;\n",
              "    }\n",
              "\n",
              "    .colab-df-convert {\n",
              "      background-color: #E8F0FE;\n",
              "      border: none;\n",
              "      border-radius: 50%;\n",
              "      cursor: pointer;\n",
              "      display: none;\n",
              "      fill: #1967D2;\n",
              "      height: 32px;\n",
              "      padding: 0 0 0 0;\n",
              "      width: 32px;\n",
              "    }\n",
              "\n",
              "    .colab-df-convert:hover {\n",
              "      background-color: #E2EBFA;\n",
              "      box-shadow: 0px 1px 2px rgba(60, 64, 67, 0.3), 0px 1px 3px 1px rgba(60, 64, 67, 0.15);\n",
              "      fill: #174EA6;\n",
              "    }\n",
              "\n",
              "    [theme=dark] .colab-df-convert {\n",
              "      background-color: #3B4455;\n",
              "      fill: #D2E3FC;\n",
              "    }\n",
              "\n",
              "    [theme=dark] .colab-df-convert:hover {\n",
              "      background-color: #434B5C;\n",
              "      box-shadow: 0px 1px 3px 1px rgba(0, 0, 0, 0.15);\n",
              "      filter: drop-shadow(0px 1px 2px rgba(0, 0, 0, 0.3));\n",
              "      fill: #FFFFFF;\n",
              "    }\n",
              "  </style>\n",
              "\n",
              "      <script>\n",
              "        const buttonEl =\n",
              "          document.querySelector('#df-0a712593-673f-4119-8de6-5de3468e414b button.colab-df-convert');\n",
              "        buttonEl.style.display =\n",
              "          google.colab.kernel.accessAllowed ? 'block' : 'none';\n",
              "\n",
              "        async function convertToInteractive(key) {\n",
              "          const element = document.querySelector('#df-0a712593-673f-4119-8de6-5de3468e414b');\n",
              "          const dataTable =\n",
              "            await google.colab.kernel.invokeFunction('convertToInteractive',\n",
              "                                                     [key], {});\n",
              "          if (!dataTable) return;\n",
              "\n",
              "          const docLinkHtml = 'Like what you see? Visit the ' +\n",
              "            '<a target=\"_blank\" href=https://colab.research.google.com/notebooks/data_table.ipynb>data table notebook</a>'\n",
              "            + ' to learn more about interactive tables.';\n",
              "          element.innerHTML = '';\n",
              "          dataTable['output_type'] = 'display_data';\n",
              "          await google.colab.output.renderOutput(dataTable, element);\n",
              "          const docLink = document.createElement('div');\n",
              "          docLink.innerHTML = docLinkHtml;\n",
              "          element.appendChild(docLink);\n",
              "        }\n",
              "      </script>\n",
              "    </div>\n",
              "  </div>\n",
              "  "
            ]
          },
          "metadata": {},
          "execution_count": 11
        }
      ],
      "source": [
        "coins.head(4)"
      ]
    },
    {
      "cell_type": "markdown",
      "metadata": {
        "id": "KVwDhn2bL07i"
      },
      "source": [
        "Поясним значения хранящиеся в колонках\n",
        " - date - дата измерений\n",
        " - name - полное название монеты\n",
        " - symbol - сокращенное название монеты\n",
        " - price - средняя цена монеты за торговый день в USD\n",
        " - txCount - количество транзакций в сети данной монеты\n",
        " - txVolume - объем монет переведенных между адресами в сети данной монеты\n",
        " - activeAddresses - количество адресов совершавших а данный день транзации в сети данной монеты\n",
        " - open - цена монеты в начале торгов данного дня\n",
        " - close - цена монеты в конце торгов данного дня\n",
        " - high - самая высокая цена данной монеты в течение данного торгового дня\n",
        " - low - самая низкая цена данной монеты в течение данного торгового дня\n",
        " - volume - объем торгов данной монетой на биржах в данный день\n",
        " - market - капитализация данной монеты в данный день"
      ]
    },
    {
      "cell_type": "markdown",
      "source": [
        "Изучим полученные данные. Ответьте на следующие вопросы (вставляйте клетки с кодом и тектом ниже):"
      ],
      "metadata": {
        "id": "_q8b6IndNKmV"
      }
    },
    {
      "cell_type": "markdown",
      "metadata": {
        "id": "7ud0R7PcL07k"
      },
      "source": [
        "### 1. Сколько всего различных монет представлено в датасете? (0.4 балла)"
      ]
    },
    {
      "cell_type": "code",
      "execution_count": 12,
      "metadata": {
        "id": "oN2d3V71L07m",
        "colab": {
          "base_uri": "https://localhost:8080/"
        },
        "outputId": "60d8029a-729a-4cf2-929f-76df8885c71e"
      },
      "outputs": [
        {
          "output_type": "stream",
          "name": "stdout",
          "text": [
            "70\n"
          ]
        }
      ],
      "source": [
        "print (coins[\"name\"].unique().size)"
      ]
    },
    {
      "cell_type": "markdown",
      "metadata": {
        "id": "TDffn2rLL07n"
      },
      "source": [
        "### 2. За какой период данные мы имеем? (0.4 балла)"
      ]
    },
    {
      "cell_type": "code",
      "execution_count": 13,
      "metadata": {
        "id": "7Ucmnjv1L07p",
        "colab": {
          "base_uri": "https://localhost:8080/"
        },
        "outputId": "221c8d3d-a1a6-4954-8a30-2eeb783df894"
      },
      "outputs": [
        {
          "output_type": "stream",
          "name": "stdout",
          "text": [
            "2013-04-28  -  2018-06-06\n"
          ]
        }
      ],
      "source": [
        "print (coins[\"date\"].min(), \" - \" , coins[\"date\"].max())"
      ]
    },
    {
      "cell_type": "markdown",
      "metadata": {
        "id": "XFHJsy_5L07p"
      },
      "source": [
        "### 3. Есть ли пропуски в данных? Какой природы эти пропуски, чем они скорее всего вызваны? (0.5 балла)"
      ]
    },
    {
      "cell_type": "code",
      "execution_count": 14,
      "metadata": {
        "id": "D-nOmmFjL07r",
        "colab": {
          "base_uri": "https://localhost:8080/"
        },
        "outputId": "a767ce18-5084-45ec-94df-e2df451ab798"
      },
      "outputs": [
        {
          "output_type": "stream",
          "name": "stdout",
          "text": [
            "5197 \n",
            "Да, пропуски в данных есть и их 5197. Основные пропущенные поля в колоннах txCount, txVolume, activeAddresses.\n",
            "Я думаю это связано с тем, что в попытке превзойти популярность Биткоина, создавали валюты транкзации которых нельзя было отследить, следовательноповышалась конфиденциальность, что является важным условием для выбора хранение капитала.\n"
          ]
        }
      ],
      "source": [
        "print (coins.isnull().sum().sum(), \"\\nДа, пропуски в данных есть и их 5197. Основные пропущенные поля в колоннах txCount, txVolume, activeAddresses.\\n\"\n",
        "\"Я думаю это связано с тем, что в попытке превзойти популярность Биткоина, создавали валюты транкзации которых нельзя было отследить, следовательно\"\n",
        "\"повышалась конфиденциальность, что является важным условием для выбора хранение капитала.\")\n"
      ]
    },
    {
      "cell_type": "markdown",
      "metadata": {
        "id": "Da-aXu_hL07s"
      },
      "source": [
        "### 4. У какой монеты и когда была самая высокая цена? (0.2 балла)"
      ]
    },
    {
      "cell_type": "code",
      "execution_count": 15,
      "metadata": {
        "id": "-D50115vL07t",
        "colab": {
          "base_uri": "https://localhost:8080/"
        },
        "outputId": "1bfda86b-fe4a-4013-ac52-b2f9c4fbe770"
      },
      "outputs": [
        {
          "output_type": "stream",
          "name": "stdout",
          "text": [
            "Bitcoin 2017-12-17  Цена: 20089.0\n"
          ]
        }
      ],
      "source": [
        "stroka = coins[coins['high'].values.astype(float) == float(coins['high'].max())].values[0]\n",
        "print(stroka[6], stroka[0], \" Цена:\", stroka[8])\n"
      ]
    },
    {
      "cell_type": "markdown",
      "metadata": {
        "id": "3F9UdmukL07u"
      },
      "source": [
        "### 5. У какой монеты самая высокая и самая низкая суммарная капитализация? Постройте круговую диаграмму с долями. (0.5 балла)"
      ]
    },
    {
      "cell_type": "code",
      "execution_count": 19,
      "metadata": {
        "id": "VeoJsuP6L07v",
        "colab": {
          "base_uri": "https://localhost:8080/",
          "height": 418
        },
        "outputId": "c59b8202-ec92-4b64-8275-592c43b4ba26"
      },
      "outputs": [
        {
          "output_type": "stream",
          "name": "stdout",
          "text": [
            "Cамая высокая суммарная капитализация у Bitcoin Cамая низкая суммарная капитализация у KingN Coin\n"
          ]
        },
        {
          "output_type": "display_data",
          "data": {
            "text/plain": [
              "<Figure size 972x432 with 1 Axes>"
            ],
            "image/png": "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\n"
          },
          "metadata": {}
        }
      ],
      "source": [
        "colors = np.random.random((100, 3))\n",
        "coins = pd.read_csv(\"coins.csv\")\n",
        "market = coins[['name','market']].groupby(\"name\").sum().reset_index()\n",
        "names = market[\"name\"].values\n",
        "data = market['market'].values\n",
        "fig = plt.figure(figsize = (13.5, 6))\n",
        "plt.pie(data, colors=colors,center=[3,0])\n",
        "plt.legend(\n",
        "    ncol=3,\n",
        "    bbox_to_anchor = (-0.16, 0.45, 0.25, 0.7),\n",
        "    loc = 'best', labels = names)\n",
        "print(\"Cамая высокая суммарная капитализация у\", market[market[\"market\"] == market[\"market\"].max()].values[0][0],\n",
        "      \"Cамая низкая суммарная капитализация у\", market[market[\"market\"] == market[\"market\"].min()].values[0][0])\n",
        "plt.show()"
      ]
    },
    {
      "cell_type": "markdown",
      "metadata": {
        "id": "8eizRenYL071"
      },
      "source": [
        "## 2. Накачка и сброс (1 балл)"
      ]
    },
    {
      "cell_type": "markdown",
      "source": [
        "Криптовалютные биржи до сих пор остаются маргинальным местом, эдаким диким западом финансового мира. Как следствие, здесь процветают схемы относительно\n",
        "честного отъема денег. Одна из них - **pump'n'dump** (накачка и сброс). \n",
        "\n",
        "Она выглядит следуюшим образом. Несколько крупных игроков или много мелких договариваются вместе купить малоизвестную монету с низкой ценой и объемом торгов. Это приводит к мгновенному взлету цены (pump), далее приходят неопытные игроки в надежде успеть заработать на таком росте. В этот момент организаторы схемы начнают все продавать (dump). Весь процесс занимает от нескольких минут до нескольких часов."
      ],
      "metadata": {
        "id": "WFgtlhMKNjtX"
      }
    },
    {
      "cell_type": "markdown",
      "source": [
        "Ваша задача -- **найти самый сильный pump'n'dump** монеты на заданном промежутке времени. Для этого для каждого дня определим число `pnd` равное отношению максимальной цены монеты в данный день к максимуму из цен открытия и закрытия в тот же день. Нужно найти день, когда `pnd` был максимален и величину `pnd`."
      ],
      "metadata": {
        "id": "EXsHpJmHNstO"
      }
    },
    {
      "cell_type": "code",
      "execution_count": 20,
      "metadata": {
        "id": "rzA20Gm6L072"
      },
      "outputs": [],
      "source": [
        "def find_most_severe_pump_and_dump(coins, symbol, start_date, end_date):\n",
        "    coins = coins[(coins['symbol'] == symbol) & (coins['date'] >= start_date) & (coins['date'] <= end_date) ]\n",
        "    pnd = dict()\n",
        "    for (date,(high,(op,close))) in zip(coins['date'].values,zip(coins['high'].values,zip(coins['open'].values, coins['close'].values))):\n",
        "        pnd[date] = float(high)/max(float(op),float(close))\n",
        "    temp = max(pnd, key=pnd.get)\n",
        "    print(temp, pnd[temp])"
      ]
    },
    {
      "cell_type": "code",
      "execution_count": 21,
      "metadata": {
        "id": "VZjM8FJ-L073",
        "colab": {
          "base_uri": "https://localhost:8080/"
        },
        "outputId": "5039713b-84b8-4d48-aa93-935b8b86209f"
      },
      "outputs": [
        {
          "output_type": "stream",
          "name": "stdout",
          "text": [
            "2017-11-29 1.1428940004366206\n"
          ]
        }
      ],
      "source": [
        "find_most_severe_pump_and_dump(coins, symbol='BTC', start_date='2017-06-01', end_date='2018-06-01')"
      ]
    },
    {
      "cell_type": "markdown",
      "metadata": {
        "id": "nos0kiTFL073"
      },
      "source": [
        "Сравните эти значения для разных монет:"
      ]
    },
    {
      "cell_type": "code",
      "execution_count": 22,
      "metadata": {
        "id": "EXJgxg7HL074",
        "colab": {
          "base_uri": "https://localhost:8080/"
        },
        "outputId": "3f388942-632c-4ed0-9a78-699f56891097"
      },
      "outputs": [
        {
          "output_type": "stream",
          "name": "stdout",
          "text": [
            "Если брать один и тот же период, то вот даты и значения максимальных pnd для всех монет за этот период.\n",
            " BTC 2017-11-29 1.1428940004366206\n",
            "LTC 2018-02-07 1.1082257158899496\n",
            "DOGE 2017-12-17 1.2747326203208558\n",
            "VTC 2017-10-22 1.3952095808383234\n",
            "DGB 2017-12-17 1.359942799461642\n",
            "DASH 2017-11-29 1.2031621370259378\n",
            "MAID 2017-06-07 1.291362434422475\n",
            "XLM 2017-10-16 1.332510511325105\n",
            "XVG 2017-12-17 1.726864726979804\n",
            "USDT 2017-11-12 1.099009900990099\n",
            "XEM 2018-01-04 1.1358695652173911\n",
            "ETH 2017-07-18 1.1433508255471652\n",
            "REP 2018-05-11 1.477601285025879\n",
            "DCR 2018-04-25 1.8054444587795122\n",
            "PIVX 2017-11-28 1.3587962962962963\n",
            "LSK 2017-06-07 1.4424778761061947\n",
            "WAVES 2017-06-03 1.2543352601156068\n",
            "ETC 2017-12-19 1.1482493171095107\n",
            "NEO 2017-06-10 1.232142857142857\n",
            "ICN 2017-12-07 2.586337382991436\n",
            "ZEC 2017-09-28 1.3298776561493881\n",
            "GNT 2018-04-13 1.6882121234525305\n",
            "GNO 2018-03-25 1.653659748974773\n",
            "ANT 2017-10-13 1.7336683417085428\n",
            "AE 2017-08-06 1.7482936279178192\n",
            "BAT 2017-06-04 1.2342492522991364\n",
            "VERI 2017-06-11 33.549253731343285\n",
            "FUN 2017-06-29 12.490562327959102\n",
            "PAY 2017-07-06 1.3514021619927934\n",
            "SNT 2017-11-29 1.3861630321910696\n",
            "EOS 2017-07-03 1.3202933985330074\n",
            "GAS 2017-09-14 1.477106227106227\n",
            "MTL 2017-11-20 1.6728538283062646\n",
            "PPT 2017-09-11 3.720797720797721\n",
            "BTM 2018-03-13 7.177933491925104\n",
            "OMG 2017-07-14 1.3312148056585635\n",
            "CVC 2017-12-25 1.726167450721039\n",
            "ETHOS 2017-08-05 1.3698404867620457\n",
            "BNB 2017-12-26 1.176079734219269\n",
            "BCH 2017-11-12 1.783945106058206\n",
            "ZRX 2018-04-05 1.254990051045648\n",
            "VEN 2017-12-27 1.2713567839195978\n",
            "NAS 2017-11-17 1.1758241758241759\n",
            "WTC 2018-01-13 1.4986168741355463\n",
            "LRC 2017-09-23 4.528409090909091\n",
            "KNC 2017-09-19 1.8519240136385777\n",
            "TRX 2017-09-16 9.651010376843255\n",
            "MANA 2017-09-21 2.9702777900454884\n",
            "SALT 2017-09-29 1.227206946454414\n",
            "ADA 2017-10-01 1.2906403940886697\n",
            "RHOC 2017-10-08 5.075208458226606\n",
            "ENG 2017-12-25 1.3618677042801557\n",
            "AION 2017-11-24 1.3624161073825503\n",
            "KCS 2017-10-25 1.3243755975664018\n",
            "ICX 2017-12-16 1.2538461538461536\n",
            "POWR 2017-11-02 1.3641688298886077\n",
            "BTG 2018-02-21 5.777033492822967\n",
            "QASH 2017-11-23 1.6658378856041132\n",
            "DRGN 2018-01-02 1.211764705882353\n",
            "ELF 2018-01-05 1.2808988764044942\n",
            "SRN 2017-12-30 1.8916487255607852\n",
            "ZIL 2018-03-05 1.4631857737419598\n",
            "POLY 2018-02-02 1.4553773349994372\n",
            "CENNZ 2018-04-07 1.1777531885963237\n",
            "LOOM 2018-03-14 1.5265126623868979\n",
            "CTXC 2018-04-24 1.1428571428571428\n",
            "\n"
          ]
        }
      ],
      "source": [
        "print(\"Если брать один и тот же период, то вот даты и значения максимальных pnd для всех монет за этот период.\\n BTC 2017-11-29 1.1428940004366206\\nLTC 2018-02-07 1.1082257158899496\\nDOGE 2017-12-17 1.2747326203208558\\nVTC 2017-10-22 1.3952095808383234\\nDGB 2017-12-17 1.359942799461642\\nDASH 2017-11-29 1.2031621370259378\\nMAID 2017-06-07 1.291362434422475\\nXLM 2017-10-16 1.332510511325105\\nXVG 2017-12-17 1.726864726979804\\nUSDT 2017-11-12 1.099009900990099\\nXEM 2018-01-04 1.1358695652173911\\nETH 2017-07-18 1.1433508255471652\\nREP 2018-05-11 1.477601285025879\\nDCR 2018-04-25 1.8054444587795122\\nPIVX 2017-11-28 1.3587962962962963\\nLSK 2017-06-07 1.4424778761061947\\nWAVES 2017-06-03 1.2543352601156068\\nETC 2017-12-19 1.1482493171095107\\nNEO 2017-06-10 1.232142857142857\\nICN 2017-12-07 2.586337382991436\\nZEC 2017-09-28 1.3298776561493881\\nGNT 2018-04-13 1.6882121234525305\\nGNO 2018-03-25 1.653659748974773\\nANT 2017-10-13 1.7336683417085428\\nAE 2017-08-06 1.7482936279178192\\nBAT 2017-06-04 1.2342492522991364\\nVERI 2017-06-11 33.549253731343285\\nFUN 2017-06-29 12.490562327959102\\nPAY 2017-07-06 1.3514021619927934\\nSNT 2017-11-29 1.3861630321910696\\nEOS 2017-07-03 1.3202933985330074\\nGAS 2017-09-14 1.477106227106227\\nMTL 2017-11-20 1.6728538283062646\\nPPT 2017-09-11 3.720797720797721\\nBTM 2018-03-13 7.177933491925104\\nOMG 2017-07-14 1.3312148056585635\\nCVC 2017-12-25 1.726167450721039\\nETHOS 2017-08-05 1.3698404867620457\\nBNB 2017-12-26 1.176079734219269\\nBCH 2017-11-12 1.783945106058206\\nZRX 2018-04-05 1.254990051045648\\nVEN 2017-12-27 1.2713567839195978\\nNAS 2017-11-17 1.1758241758241759\\nWTC 2018-01-13 1.4986168741355463\\nLRC 2017-09-23 4.528409090909091\\nKNC 2017-09-19 1.8519240136385777\\nTRX 2017-09-16 9.651010376843255\\nMANA 2017-09-21 2.9702777900454884\\nSALT 2017-09-29 1.227206946454414\\nADA 2017-10-01 1.2906403940886697\\nRHOC 2017-10-08 5.075208458226606\\nENG 2017-12-25 1.3618677042801557\\nAION 2017-11-24 1.3624161073825503\\nKCS 2017-10-25 1.3243755975664018\\nICX 2017-12-16 1.2538461538461536\\nPOWR 2017-11-02 1.3641688298886077\\nBTG 2018-02-21 5.777033492822967\\nQASH 2017-11-23 1.6658378856041132\\nDRGN 2018-01-02 1.211764705882353\\nELF 2018-01-05 1.2808988764044942\\nSRN 2017-12-30 1.8916487255607852\\nZIL 2018-03-05 1.4631857737419598\\nPOLY 2018-02-02 1.4553773349994372\\nCENNZ 2018-04-07 1.1777531885963237\\nLOOM 2018-03-14 1.5265126623868979\\nCTXC 2018-04-24 1.1428571428571428\\n\")"
      ]
    },
    {
      "cell_type": "markdown",
      "metadata": {
        "id": "4I9QAGfGL074"
      },
      "source": [
        "## 3. Окупаемость инвестиций (1 балл)"
      ]
    },
    {
      "cell_type": "markdown",
      "metadata": {
        "id": "Ts7GdSZJL075"
      },
      "source": [
        "Вам нужно посчитать **окупаемость инвестиций (ROI)** в криптовалюты на заданном промежутке времени. \n",
        "\n",
        "Окупаемость определяется как отношение *изменения цены портфеля* к *исходной цене портфеля*. Цена портфеля - это суммарная стоимость (в USD) всех монет в портфеле.\n",
        "\n",
        "`investments` - словарь, в котором ключи - это названия монет, значения - это сумма вложений в эту монету (в USD)."
      ]
    },
    {
      "cell_type": "code",
      "execution_count": 23,
      "metadata": {
        "id": "RwDtgKjhL076"
      },
      "outputs": [],
      "source": [
        "def compute_roi(coins, investments, start_date, end_date):\n",
        "    start_paket = 0;\n",
        "    end_paket = 0;\n",
        "    for x in investments.keys():\n",
        "        start_paket += float(coins[(coins['date'] == start_date) & (coins['symbol'] == x)]['price'].values[0]) * investments[x]\n",
        "        end_paket += float(coins[(coins['date'] == end_date) & (coins['symbol'] == x)]['price'].values[0]) * investments[x]\n",
        "    print((end_paket - start_paket)/start_paket)"
      ]
    },
    {
      "cell_type": "code",
      "execution_count": 24,
      "metadata": {
        "id": "oWW8XBrIL076",
        "colab": {
          "base_uri": "https://localhost:8080/"
        },
        "outputId": "68327764-d826-4272-80fc-b8c3c0d339e2"
      },
      "outputs": [
        {
          "output_type": "stream",
          "name": "stdout",
          "text": [
            "0.004831614576721986\n"
          ]
        }
      ],
      "source": [
        "compute_roi(coins, investments={'BTC': 1000, 'LTC': 500}, start_date='2018-04-04', end_date='2018-06-01')"
      ]
    },
    {
      "cell_type": "code",
      "execution_count": 25,
      "metadata": {
        "id": "UQDAuP_QL077",
        "colab": {
          "base_uri": "https://localhost:8080/"
        },
        "outputId": "17e8ce88-9405-468f-b930-54dc024de4c5"
      },
      "outputs": [
        {
          "output_type": "stream",
          "name": "stdout",
          "text": [
            "57.53575236064575\n"
          ]
        }
      ],
      "source": [
        "compute_roi(coins, investments={'BTC': 1000, 'LTC': 500}, start_date='2013-05-28', end_date='2018-06-06')"
      ]
    },
    {
      "cell_type": "markdown",
      "metadata": {
        "id": "ln30vuzhL08L"
      },
      "source": [
        "## 4. Отказ от ответственности "
      ]
    },
    {
      "cell_type": "markdown",
      "source": [
        "Все примеры разобранных здесь стратегий являются игрушечными и не подходят для реальной торговли на бирже. Без серьезной подготовки вас там съедят с потрохами."
      ],
      "metadata": {
        "id": "TJsrHxbTT7ZH"
      }
    }
  ],
  "metadata": {
    "kernelspec": {
      "display_name": "Python 3",
      "language": "python",
      "name": "python3"
    },
    "language_info": {
      "codemirror_mode": {
        "name": "ipython",
        "version": 3
      },
      "file_extension": ".py",
      "mimetype": "text/x-python",
      "name": "python",
      "nbconvert_exporter": "python",
      "pygments_lexer": "ipython3",
      "version": "3.8.5"
    },
    "colab": {
      "provenance": [],
      "include_colab_link": true
    }
  },
  "nbformat": 4,
  "nbformat_minor": 0
}
